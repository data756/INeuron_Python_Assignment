{
 "cells": [
  {
   "cell_type": "markdown",
   "id": "coastal-tokyo",
   "metadata": {},
   "source": [
    "1.What are the Boolean data type's two values? How do you go about writing them?\n",
    "\n",
    "Ans:- Boolean data types can have two values true and false.  \n",
    "We can write that according to following ...\n",
    "1. True\n",
    "2. False"
   ]
  },
  {
   "cell_type": "markdown",
   "id": "flying-benefit",
   "metadata": {},
   "source": [
    "2. What are the three different types of Boolean operators?\n",
    "\n",
    "Ans:- three different types of boolean operators are as below\n",
    "\n",
    "    1.and\n",
    "    2.not\n",
    "    3.or"
   ]
  },
  {
   "cell_type": "markdown",
   "id": "strange-subsection",
   "metadata": {},
   "source": [
    "3. Make a list of each Boolean operator's truth tables (i.e. every possible combination of Boolean values for the operator and what it evaluate ).\n",
    "\n",
    "AND :- \n",
    "    \n",
    "    X      Y    Output(X and Y)\n",
    "   \n",
    "    True  True    True\n",
    "  \n",
    "    True  False   False\n",
    "   \n",
    "    False True    False\n",
    "   \n",
    "    False False   False\n",
    "   \n",
    "OR :- \n",
    "\n",
    "     X      Y    Output(X or Y)\n",
    "   \n",
    "    True  True    True\n",
    "  \n",
    "    True  False   True\n",
    "   \n",
    "    False True    True\n",
    "   \n",
    "    False False   False\n",
    "\n",
    "\n",
    "Not:-\n",
    "\n",
    "       X     Output(not X)\n",
    "      True     False\n",
    "      False    True"
   ]
  },
  {
   "cell_type": "markdown",
   "id": "parallel-optics",
   "metadata": {},
   "source": [
    "4. What are the values of the following expressions?\n",
    "\n",
    "Ans:-\n",
    "\n",
    "    (5 > 4) and (3 == 5) --> False\n",
    "    not (5 > 4) --> False\n",
    "    (5 > 4) or (3 == 5) --> True\n",
    "    not ((5 > 4) or (3 == 5)) --> False\n",
    "    (True and True) and (True == False) --> False\n",
    "    (not False) or (not True) --> True"
   ]
  },
  {
   "cell_type": "markdown",
   "id": "comparative-driver",
   "metadata": {},
   "source": [
    "5. What are the six different types of reference operators?\n",
    "\n",
    "Ans.. No idea\n",
    "\n",
    "    "
   ]
  },
  {
   "cell_type": "markdown",
   "id": "still-flashing",
   "metadata": {},
   "source": [
    "6. 6. How do you tell the difference between the equal to and assignment operators?\n",
    "\n",
    "Ans..\n",
    "    \n",
    "    '==' is used to denote the equal to operator\n",
    "    '=' is used to perform assignment operations.\n",
    "       "
   ]
  },
  {
   "cell_type": "markdown",
   "id": "agricultural-environment",
   "metadata": {},
   "source": [
    "7. Describe a condition and when you would use one.\n",
    " \n",
    " Ans..\n",
    " \n",
    "     When you want to compare two operands , like if they are equal or same or not in that case *==* will be used. like 5==5 , Bhavya==bhavya etc. Generally we use such operators in control statement.\n",
    "     \n",
    "     Assignment operator is used to initialize variables. and assign values to variables as below...\n",
    "     \n",
    "     a=7 , b='text'\n",
    "     \n",
    "     "
   ]
  },
  {
   "cell_type": "markdown",
   "id": "oriental-helmet",
   "metadata": {},
   "source": [
    "8. Recognize the following three blocks in this code:\n",
    "\n",
    "1. spam = 0\n",
    "2. if spam == 10:\n",
    "3.    print('eggs')\n",
    "4.    if spam > 5:\n",
    "5.        print('bacon')\n",
    "6.    else:\n",
    "7.        print('ham')\n",
    "8.    print('spam')\n",
    "9. print('spam')\n",
    "\n",
    "Ans.. \n",
    "\n",
    "    in above code line no 1,2 & 9 will make one block.\n",
    "    3,4,6 & 8 will make another block.\n",
    "    5 & 7 will make another block.\n",
    "   \n"
   ]
  },
  {
   "cell_type": "code",
   "execution_count": 3,
   "id": "choice-medline",
   "metadata": {},
   "outputs": [
    {
     "name": "stdout",
     "output_type": "stream",
     "text": [
      "Salutations!\n"
     ]
    }
   ],
   "source": [
    "'''9. Create a programme that prints. If 1 is stored in spam, \n",
    "prints Hello; if 2 is stored in spam, prints Howdy; \n",
    "and if 3 is stored in spam, \n",
    "prints Salutations! if there's something else in spam.'''\n",
    "\n",
    "#ans:-\n",
    "spam=3\n",
    "if(spam==1):\n",
    "    print('Hello')\n",
    "elif(spam==2):\n",
    "    print('Howdy')\n",
    "else:\n",
    "    print('Salutations!')"
   ]
  },
  {
   "cell_type": "markdown",
   "id": "polar-ranking",
   "metadata": {},
   "source": [
    "10. If your programme is stuck in an endless loop, what keys can you press?\n",
    "\n",
    "CTRL+C\n",
    "\n",
    "\n"
   ]
  },
  {
   "cell_type": "markdown",
   "id": "animated-leave",
   "metadata": {},
   "source": [
    "11. How can you tell the difference between break and continue?\n",
    "\n",
    "Ans.. \n",
    "    \n",
    "    'break' keyword is used to exit any loop. As soon as break keyword executed and complied by the python compiler , it will terminate the execution of that loop and it will execute the next line in code.\n",
    "    \n",
    "    'continue' keyword is used to move to next iteration in existing loop. whenever you want to pass the certain iteration in loop and just move to next iteration without performing any operation , continue keyword will be used."
   ]
  },
  {
   "cell_type": "markdown",
   "id": "verbal-values",
   "metadata": {},
   "source": [
    "12. In a for loop, what is the difference between range(10), range(0, 10), and range(0, 10, 1)?\n",
    "\n",
    " Ans ... \n",
    "    \n",
    "    There is no difference in above mentioned range function. We will always get same output in all three mentioned cases. It is just the different way to write same function.\n",
    "    "
   ]
  },
  {
   "cell_type": "markdown",
   "id": "ahead-twist",
   "metadata": {},
   "source": [
    "13. Using a for loop, write a short programme that prints the numbers 1 to 10 Then, using a while loop, create an identical programme that prints the numbers 1 to 10."
   ]
  },
  {
   "cell_type": "code",
   "execution_count": 9,
   "id": "developing-cooper",
   "metadata": {},
   "outputs": [
    {
     "name": "stdout",
     "output_type": "stream",
     "text": [
      "1\n",
      "2\n",
      "3\n",
      "4\n",
      "5\n",
      "6\n",
      "7\n",
      "8\n",
      "9\n",
      "10\n"
     ]
    }
   ],
   "source": [
    "#Using for Loop\n",
    "\n",
    "for i in range(1,11,1):\n",
    "    print(i)"
   ]
  },
  {
   "cell_type": "code",
   "execution_count": 11,
   "id": "contained-experience",
   "metadata": {},
   "outputs": [
    {
     "name": "stdout",
     "output_type": "stream",
     "text": [
      "1\n",
      "2\n",
      "3\n",
      "4\n",
      "5\n",
      "6\n",
      "7\n",
      "8\n",
      "9\n",
      "10\n"
     ]
    }
   ],
   "source": [
    "#using While loop\n",
    "i=1\n",
    "while(i<11):\n",
    "    print(i)\n",
    "    i=i+1"
   ]
  },
  {
   "cell_type": "markdown",
   "id": "prepared-warning",
   "metadata": {},
   "source": [
    "14. If you had a bacon() function within a spam module, what would you call it after importing spam?\n",
    "\n",
    "Ans--> spam.bacon()"
   ]
  },
  {
   "cell_type": "code",
   "execution_count": null,
   "id": "radical-brain",
   "metadata": {},
   "outputs": [],
   "source": []
  }
 ],
 "metadata": {
  "kernelspec": {
   "display_name": "Python 3",
   "language": "python",
   "name": "python3"
  },
  "language_info": {
   "codemirror_mode": {
    "name": "ipython",
    "version": 3
   },
   "file_extension": ".py",
   "mimetype": "text/x-python",
   "name": "python",
   "nbconvert_exporter": "python",
   "pygments_lexer": "ipython3",
   "version": "3.8.5"
  }
 },
 "nbformat": 4,
 "nbformat_minor": 5
}
