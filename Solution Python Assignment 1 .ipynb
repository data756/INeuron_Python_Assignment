{
 "cells": [
  {
   "cell_type": "markdown",
   "id": "cathedral-sixth",
   "metadata": {},
   "source": [
    "1. What are the differences between operators and values in the following?\n",
    "*\n",
    "\n",
    "'hello'\n",
    "\n",
    "-87.8\n",
    "\n",
    "-\n",
    "\n",
    "/\n",
    "\n",
    "+\n",
    "\n",
    "6"
   ]
  },
  {
   "cell_type": "markdown",
   "id": "magnetic-operations",
   "metadata": {},
   "source": [
    "Ans:-\n",
    "\n",
    "Operator \"*\" -> 1. * is used to multiply two operands. Two operands can be Integers, float. Two operands can be multiplication of string and Integer. ** can be used to denote the power. Operators does not occupy any memory in heap.\n",
    "\n",
    "'hello' -> this is string value which can be stored in any variable. Strings are immutable object. Strings are iterable and String. We can perform different string manipulation operations with in built string functions.It will occupy some memory according to string length.  Memory allocation will be dynamic\n",
    "\n",
    "-87.8 -> It is float number.it will occupy some memory in heap\n",
    "\n",
    "'-' -> Operator is used to denote the substraction operations between two operands. \n",
    "\n",
    "'/' -> Division operator . It is used to defined the devision operation between two numbers.\n",
    "\n",
    "'+' -> add operator. Used to perform addition between two numbers and concatination of iterable data structures(String,list, Tuple)\n",
    "\n",
    "6-> integer number in python. "
   ]
  },
  {
   "cell_type": "markdown",
   "id": "south-prototype",
   "metadata": {},
   "source": [
    "2. What is the difference between string and variable?\n",
    "spam\n",
    "'spam'\n",
    "\n",
    "String :- String is the class. It is one of the datatype available in python. String will be stored in variable and variable value (Actual String value) will be stored in heap memory.\n",
    "\n",
    "Variables:- Variables are used to store any data type. Variable is kind of data holder. variable can store any data type value. "
   ]
  },
  {
   "cell_type": "markdown",
   "id": "periodic-detective",
   "metadata": {},
   "source": [
    "3. Describe three different data forms.\n",
    "\n",
    "Text  :- str\n",
    "\n",
    "Numeric Type :- int,float, complex\n",
    "\n",
    "Boolean Type :- bool"
   ]
  },
  {
   "cell_type": "markdown",
   "id": "pregnant-rental",
   "metadata": {},
   "source": [
    "4.What makes up an expression? What are the functions of all expressions?\n",
    "\n",
    "expression will be formed when two or more homogenous operands are combined with operator and provide single number or string in output.\n",
    "In scripting, python expressions are windly used.  \n",
    "\n",
    "(a+b-5)--> it is one expression.\n",
    "\n",
    "1.Arithmatic Expression:-\n",
    "\n",
    "a+b -> Summation expression\n",
    "\n",
    "a-b -> Substraction expression\n",
    "\n",
    "a * b -> multiplication expression \n",
    "\n",
    "a/b -> Division expression\n",
    "\n",
    "a%b -> Modulo\n",
    "\n",
    "2.Comparision Expression :- It is used in control statement and loops.\n",
    "\n",
    "a==b -> equal to \n",
    "\n",
    "a!=b -> not equal to\n",
    "\n",
    "a=>b -> greater than or equal to\n",
    "\n",
    "a<=b -> less than or equal to\n",
    "\n",
    "a > b-> greater than\n",
    "\n",
    "a < b-> less than\n",
    "\n",
    "\n",
    "3.Logical expression :-\n",
    "\n",
    "not\n",
    "\n",
    "or \n",
    "\n",
    "and"
   ]
  },
  {
   "cell_type": "markdown",
   "id": "progressive-bracelet",
   "metadata": {},
   "source": [
    "5.In this chapter, assignment statements such as spam = 10 were added. What's the difference between a declaration and an expression?\n",
    "\n",
    "variable declaration is sytax in python to assign some data to particular labelled container. When we declare the variable memory will be allocated in the heap based on the data type.\n",
    "\n",
    "Expression is an operation performed between one(not a- Logical experssion) or more than one variable in python. result of the expression will be  one of the data forms mentioned in previous questions. Variable can be used as operand as part of expression."
   ]
  },
  {
   "cell_type": "markdown",
   "id": "ideal-merchandise",
   "metadata": {},
   "source": [
    "6.After running the following code, what does the variable bacon contain?\n",
    "\n",
    "bacon = 22\n",
    "bacon + 1\n",
    "\n",
    "output:- 22 as bacon+1 was incremented by one but not assigned back to 'bacon' variable."
   ]
  },
  {
   "cell_type": "markdown",
   "id": "technical-empire",
   "metadata": {},
   "source": [
    "7.What should the values of the following two terms be?\n",
    "\n",
    "'spam' + 'spamspam' --> 'spamspamspam'\n",
    "\n",
    "'spam' * 3 --> 'spamspamspam'\n"
   ]
  },
  {
   "cell_type": "markdown",
   "id": "adolescent-lotus",
   "metadata": {},
   "source": [
    "8.Why is it that eggs is a true variable name but 100 is not?\n",
    "\n",
    "According to python coding standard sytax and symmentics , variable name should be alphanumeric string. It should not start with integer number. It can be start with some special characters like ' _ ' but it can not be start with numric value.Hence 'eggs' is correct variable name but 100 can not be variable name as it is numeric digit."
   ]
  },
  {
   "cell_type": "markdown",
   "id": "upper-uruguay",
   "metadata": {},
   "source": [
    "9.Which of the following three functions may be used to convert a value to an integer, a floating-point number, or a string?\n",
    "--> question is not clear or incomplete question"
   ]
  },
  {
   "cell_type": "markdown",
   "id": "average-canvas",
   "metadata": {},
   "source": [
    "10.What is the error caused by this expression? What would you do about it?\n",
    "\n",
    "'I have eaten ' + 99 + ' burritos.'\n",
    "\n",
    "--> Above expression should throw the TypeError due to heterogenous datatype. in order to remove the above error we can use the type casting tool available in python as mentioned below.\n",
    "\n",
    "\n",
    "'I have eaten ' + str(99) + ' burritos.'\n"
   ]
  },
  {
   "cell_type": "code",
   "execution_count": null,
   "id": "boring-jacksonville",
   "metadata": {},
   "outputs": [],
   "source": []
  }
 ],
 "metadata": {
  "kernelspec": {
   "display_name": "Python 3",
   "language": "python",
   "name": "python3"
  },
  "language_info": {
   "codemirror_mode": {
    "name": "ipython",
    "version": 3
   },
   "file_extension": ".py",
   "mimetype": "text/x-python",
   "name": "python",
   "nbconvert_exporter": "python",
   "pygments_lexer": "ipython3",
   "version": "3.8.5"
  }
 },
 "nbformat": 4,
 "nbformat_minor": 5
}
