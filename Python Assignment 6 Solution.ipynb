{
 "cells": [
  {
   "cell_type": "markdown",
   "id": "cathedral-thomas",
   "metadata": {},
   "source": [
    "1. What are escape characters?\n",
    "\n",
    "Ans:-\n",
    "\n",
    "    Escape characters are used to insert sytantically wrong characters like \"\"(double quotes) in string with double quotes. \"\\\" backslash is one of the escape charater in python.\n",
    "    \n",
    "    Other escape characters are '\\n' and '\\t' which are used to insert new line and tab while printing the string in console respectivly. \n",
    "    "
   ]
  },
  {
   "cell_type": "markdown",
   "id": "guilty-family",
   "metadata": {},
   "source": [
    "2. What do the \\n and \\t escape characters represent?\n",
    "\n",
    "Ans:- \n",
    "\n",
    "    \\n :- represents new line\n",
    "    \\t:- represents space or tab space."
   ]
  },
  {
   "cell_type": "markdown",
   "id": "incoming-beatles",
   "metadata": {},
   "source": [
    "3. How can you put a \\ backslash character in a string?\n",
    "\n",
    "    Ans:-\n",
    "     \\ backslash is one of the escape charater in python. backslash will help to insert double quotes in string while string is defined using double quote.\n",
    "    "
   ]
  },
  {
   "cell_type": "markdown",
   "id": "representative-indie",
   "metadata": {},
   "source": [
    "4. The string value \"Howl's Moving Castle\" is a valid string. Why isn’t it a problem that the single quote character in the word Howl's isn’t escaped?\n",
    "\n",
    "Ans:-\n",
    "\n",
    "        It is not problem because string value was quoted using the double quotes."
   ]
  },
  {
   "cell_type": "markdown",
   "id": "published-newport",
   "metadata": {},
   "source": [
    "5. If you don’t want to put \\n in your string, how can you write a string with newlines in it?\n",
    "\n",
    "Ans:- You can write the string between \"\"\" \"\"\" and provide the new line when required while typing the string value by \"enter\" button oon keyboard. \n",
    "\n",
    "    "
   ]
  },
  {
   "cell_type": "markdown",
   "id": "illegal-martial",
   "metadata": {},
   "source": [
    "6. What do the following expressions evaluate to?\n",
    "\n",
    "'Hello, world!'[1] --> 'e'\n",
    "\n",
    "'Hello, world!'[0:5] --> 'Hello'\n",
    "\n",
    "'Hello, world!'[:5] --> 'Hello'\n",
    "\n",
    "'Hello, world!'[3:] --> 'lo, world!'"
   ]
  },
  {
   "cell_type": "markdown",
   "id": "consolidated-allowance",
   "metadata": {},
   "source": [
    "7. What do the following expressions evaluate to?\n",
    "\n",
    "'Hello'.upper()\n",
    "'Hello'.upper().isupper()\n",
    "'Hello'.upper().lower()\n",
    "\n",
    "Ans:-\n",
    "\n",
    "'Hello'.upper() --> HELLO\n",
    "\n",
    "'Hello'.upper().isupper() --> True\n",
    "\n",
    "'Hello'.upper().lower() --> hello"
   ]
  },
  {
   "cell_type": "markdown",
   "id": "juvenile-edition",
   "metadata": {},
   "source": [
    "8. What do the following expressions evaluate to?\n",
    "\n",
    "'Remember, remember, the fifth of November.'.split()\n",
    "'-'.join('There can be only one.'.split())\n",
    "\n",
    "Ans:-\n",
    "\n",
    "'Remember, remember, the fifth of November.'.split()--> ['Remember,', 'remember,', 'the', 'fifth', 'of', 'November.']\n",
    "\n",
    "'-'.join('There can be only one.'.split()) -> 'There-can-be-only-one.'"
   ]
  },
  {
   "cell_type": "markdown",
   "id": "adult-potential",
   "metadata": {},
   "source": [
    "9. What string methods can you use to right-justify, left-justify, and center a string?\n",
    "\n",
    "Ans:-\n",
    "    str.ljust() :- left Justify\n",
    "    str.rjust() :- right justify\n",
    "    str.center() :- center\n",
    "    "
   ]
  },
  {
   "cell_type": "markdown",
   "id": "collect-reference",
   "metadata": {},
   "source": [
    "10. How can you trim whitespace characters from the beginning or end of a string?\n",
    "\n",
    "Ans:-\n",
    "\n",
    "    rstrip() :- to trim the space from the end\n",
    "    \n",
    "    lstrip() :- To trim the space from the begining\n",
    "    \n",
    "    strip() :- To remove the space from end and begining\n",
    "\n",
    "    \n",
    "    \n",
    "    "
   ]
  },
  {
   "cell_type": "code",
   "execution_count": null,
   "id": "possible-entrance",
   "metadata": {},
   "outputs": [],
   "source": []
  },
  {
   "cell_type": "code",
   "execution_count": null,
   "id": "extraordinary-strip",
   "metadata": {},
   "outputs": [],
   "source": []
  },
  {
   "cell_type": "code",
   "execution_count": null,
   "id": "loaded-diabetes",
   "metadata": {},
   "outputs": [],
   "source": []
  },
  {
   "cell_type": "code",
   "execution_count": null,
   "id": "billion-atlas",
   "metadata": {},
   "outputs": [],
   "source": []
  },
  {
   "cell_type": "code",
   "execution_count": null,
   "id": "frank-banner",
   "metadata": {},
   "outputs": [],
   "source": []
  },
  {
   "cell_type": "code",
   "execution_count": null,
   "id": "heard-acceptance",
   "metadata": {},
   "outputs": [],
   "source": []
  },
  {
   "cell_type": "code",
   "execution_count": null,
   "id": "obvious-candidate",
   "metadata": {},
   "outputs": [],
   "source": []
  },
  {
   "cell_type": "code",
   "execution_count": null,
   "id": "promising-builder",
   "metadata": {},
   "outputs": [],
   "source": []
  },
  {
   "cell_type": "code",
   "execution_count": null,
   "id": "photographic-mining",
   "metadata": {},
   "outputs": [],
   "source": []
  }
 ],
 "metadata": {
  "kernelspec": {
   "display_name": "Python 3",
   "language": "python",
   "name": "python3"
  },
  "language_info": {
   "codemirror_mode": {
    "name": "ipython",
    "version": 3
   },
   "file_extension": ".py",
   "mimetype": "text/x-python",
   "name": "python",
   "nbconvert_exporter": "python",
   "pygments_lexer": "ipython3",
   "version": "3.8.5"
  }
 },
 "nbformat": 4,
 "nbformat_minor": 5
}
