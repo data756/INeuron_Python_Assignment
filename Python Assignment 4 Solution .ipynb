{
 "cells": [
  {
   "cell_type": "markdown",
   "id": "tutorial-married",
   "metadata": {},
   "source": [
    "1. What is []?\n",
    "\n",
    "Ans:- It is one of the in built collector in python. We call it as list."
   ]
  },
  {
   "cell_type": "markdown",
   "id": "cellular-alloy",
   "metadata": {},
   "source": [
    "2. How would you assign the value 'hello' as the third value in a list stored in a variable named spam? (Assume spam contains [2, 4, 6, 8, 1\n",
    "\n",
    "Ans:- spam[2]='hello'\n"
   ]
  },
  {
   "cell_type": "markdown",
   "id": "after-tactics",
   "metadata": {},
   "source": [
    "For the following three questions, let’s say spam contains the list ['a', 'b', 'c', 'd'].\n",
    "\n",
    "\n",
    "3. What does spam[int(int('3' * 2) // 11)] evaluate to?\n",
    "\n",
    "Ans:- 'd'\n",
    "\n",
    "4. What does spam[-1] evaluate to?\n",
    "\n",
    "Ans:- 'd'\n",
    "\n",
    "5. What does spam[:2] evaluate to?\n",
    "\n",
    "Ans:- ['a','b']"
   ]
  },
  {
   "cell_type": "markdown",
   "id": "vertical-village",
   "metadata": {},
   "source": [
    "For the following three questions, let’s say bacon contains the list [3.14, 'cat', 11, 'cat', True].\n",
    "\n",
    "6. What does bacon.index('cat') evaluate to?\n",
    "\n",
    "Ans:- 1\n",
    "\n",
    "7. What does bacon.append(99) make the list value in bacon look like?\n",
    " \n",
    "Ans :- [3.14, 'cat', 11, 'cat', True ,99]\n",
    "\n",
    "8. What does bacon.remove('cat') make the list value in bacon look like?\n",
    "\n",
    "Ans:- [3.14, 11, 'cat', True ,99]\n"
   ]
  },
  {
   "cell_type": "markdown",
   "id": "chicken-anime",
   "metadata": {},
   "source": [
    "9. What are the operators for list concatenation and list replication?\n",
    "\n",
    "Ans:-  \n",
    "            \n",
    "            List Concatenation Operators :- '+' \n",
    "            List Replication Operator :- '*'\n",
    "        \n",
    "        "
   ]
  },
  {
   "cell_type": "markdown",
   "id": "constitutional-young",
   "metadata": {},
   "source": [
    "10. What is the difference between the append() and insert() list methods?\n",
    "\n",
    "Ans:- append() function will attach the element/list/ any data types at the last and it will be stored as last element of the list. insert() function will be used to insert elements anywhere on the list."
   ]
  },
  {
   "cell_type": "markdown",
   "id": "central-spring",
   "metadata": {},
   "source": [
    "11. What are two ways to remove values from a list?\n",
    "\n",
    "Ans:- pop() and remove() functions are used to remove list from the elements."
   ]
  },
  {
   "cell_type": "markdown",
   "id": "perfect-jewelry",
   "metadata": {},
   "source": [
    "12. Name a few ways that list values are similar to string values.\n",
    "\n",
    "Ans:- \n",
    "\n",
    "    1) list and Strings both are ordered collection.\n",
    "    2) List and Strings both are iterable collection means we can traverse through each element of String and List with the help of any looping statement.\n",
    "    "
   ]
  },
  {
   "cell_type": "markdown",
   "id": "unavailable-consultation",
   "metadata": {},
   "source": [
    "13. What is the difference between lists and tuples?\n",
    "\n",
    "Ans:- \n",
    "\n",
    "    1) List elements are mutable means you would be able to change the element values on particular index in list. Tuples are immutable object means element values in particular index can not be changed. \n",
    "    2) List provide you many inbuilt methods while same is not the case for Tuples. Tuples provide you only 2 or 3 inbuilt functions.\n",
    "\n"
   ]
  },
  {
   "cell_type": "markdown",
   "id": "biblical-background",
   "metadata": {},
   "source": [
    "14. How do you type the tuple value that has just the integer value 42 in it?\n",
    "\n",
    "Ans:- a=(42,)"
   ]
  },
  {
   "cell_type": "markdown",
   "id": "approved-relief",
   "metadata": {},
   "source": [
    "15. How can you get the tuple form of a list value? How can you get the list form of a tuple value?\n",
    "\n",
    "Ans: By type casting...\n",
    "\n",
    "        if temp_list is a list and  if you want to convert it to tuple then write following code...\n",
    "        \n",
    "        temp_tuple=tuple(temp_list)\n",
    "        \n",
    "        if temp_tuple is a tuple and  if you want to convert it to list then write following code...\n",
    "        \n",
    "        temp_list=list(temp_tuple)"
   ]
  },
  {
   "cell_type": "markdown",
   "id": "front-africa",
   "metadata": {},
   "source": [
    "16. Variables that “contain” list values don’t actually contain lists directly. What do they contain instead?\n",
    "\n",
    "Ans:- they contain the memeory reference value of that list."
   ]
  },
  {
   "cell_type": "markdown",
   "id": "satisfied-routine",
   "metadata": {},
   "source": [
    "17. What is the difference between copy.copy() and copy.deepcopy()?\n",
    "\n",
    "Ans:- \n",
    "\n",
    "    copy.copy() will do the shallow copy of the function means it will create the new reference object but its nested object will be pointing towards previous list from which new list was created. Hence if we append new element on the previous list it will not be reflected in new list. But if we try to change any element of nested list we will have the\n",
    "    \n",
    "    copy.deepcopy() will do the deep copy of the function means it will create new reference object and for nested element in old list will have new reference object as well.  Hence whenever we modify or append any element in old list or nested list in old list, it will not be reflected in new list.\n",
    "    "
   ]
  },
  {
   "cell_type": "code",
   "execution_count": null,
   "id": "essential-opening",
   "metadata": {},
   "outputs": [],
   "source": []
  }
 ],
 "metadata": {
  "kernelspec": {
   "display_name": "Python 3",
   "language": "python",
   "name": "python3"
  },
  "language_info": {
   "codemirror_mode": {
    "name": "ipython",
    "version": 3
   },
   "file_extension": ".py",
   "mimetype": "text/x-python",
   "name": "python",
   "nbconvert_exporter": "python",
   "pygments_lexer": "ipython3",
   "version": "3.8.5"
  }
 },
 "nbformat": 4,
 "nbformat_minor": 5
}
