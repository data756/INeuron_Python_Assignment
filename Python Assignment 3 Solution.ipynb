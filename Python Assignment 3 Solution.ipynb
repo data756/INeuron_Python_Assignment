{
 "cells": [
  {
   "cell_type": "markdown",
   "id": "studied-activity",
   "metadata": {},
   "source": [
    "1. Why are functions advantageous to have in your programs?\n",
    "\n",
    "Ans :-\n",
    "        \n",
    "     - Functions can be used for few common lines of code or logic in python programs which are frequently used. That way we can avoid the writing duplicate lines of code in program.\n",
    "     -Functions provide greate re-usability feature in python just like any other language. \n",
    "     -modular programming is another outcome of the functions."
   ]
  },
  {
   "cell_type": "markdown",
   "id": "unlimited-mirror",
   "metadata": {},
   "source": [
    "2. When does the code in a function execute: when the function is defined or when the function is called?\n",
    "\n",
    "Ans:-\n",
    "      \n",
    "     -Code in funciton will execute when we call the function. "
   ]
  },
  {
   "cell_type": "markdown",
   "id": "fresh-terrace",
   "metadata": {},
   "source": [
    "3. What statement creates a function?\n",
    "\n",
    "Ans:-\n",
    "\n",
    "    - to create function we need to write following statement. \n",
    "    \n",
    "    def foo():\n",
    "        pass\n",
    "    \n",
    "    \"def\" is keyword and \"foo()\" is the function name \":\" python syntax."
   ]
  },
  {
   "cell_type": "markdown",
   "id": "judicial-european",
   "metadata": {},
   "source": [
    "4. What is the difference between a function and a function call?\n",
    "\n",
    "Ans:-\n",
    "\n",
    "    -> Funciton / Funciton Definition :-  When executed by python compiler , compiler will know the function definition , its parameter information. It will not execute the code written in function.\n",
    "    \n",
    "    ->Function Call :- When executed , compiler will execute the code written in funciton. It will also pass the necessary parameters to the function.If any return type was set in function definition then , function call statement should have variable to handle the returned value from the function outcome."
   ]
  },
  {
   "cell_type": "markdown",
   "id": "german-faculty",
   "metadata": {},
   "source": [
    "5. How many global scopes are there in a Python program? How many local scopes?\n",
    "\n",
    "Ans:-\n",
    "\n",
    "    -> Global Scopes - 2 Global scopes.\n",
    "    -> Local Scopes - 2 Local scopes."
   ]
  },
  {
   "cell_type": "markdown",
   "id": "silver-metro",
   "metadata": {},
   "source": [
    "6. What happens to variables in a local scope when the function call returns?\n",
    "\n",
    "Ans:-\n",
    "    \n",
    "    Local scope variable will not be accessible after the function \n",
    "    call returns the value."
   ]
  },
  {
   "cell_type": "markdown",
   "id": "apparent-shareware",
   "metadata": {},
   "source": [
    "7. What is a return value? Can a return value be part of an expression?\n",
    "\n",
    "Ans:-\n",
    "\n",
    "    Return value of a function will be decided by return statement of the function. As soon as return statment is executed , function execution will be completed / terminate. function can return the expression(example a+b,a-b etc)"
   ]
  },
  {
   "cell_type": "markdown",
   "id": "mechanical-saying",
   "metadata": {},
   "source": [
    "8. If a function does not have a return statement, what is the return value of a call to that function?\n",
    "\n",
    "Ans:-\n",
    "\n",
    "    None"
   ]
  },
  {
   "cell_type": "markdown",
   "id": "rotary-generator",
   "metadata": {},
   "source": [
    "9. How can you force a variable in a function to refer to the global variable?\n",
    "\n",
    "Ans:-\n",
    "\n",
    "    by using the keyword 'global' before variable name. "
   ]
  },
  {
   "cell_type": "markdown",
   "id": "considered-plymouth",
   "metadata": {},
   "source": [
    "10. What is the data type of None?\n",
    "\n",
    "Ans:-\n",
    "    \n",
    "    NoneType"
   ]
  },
  {
   "cell_type": "markdown",
   "id": "dressed-portland",
   "metadata": {},
   "source": [
    "11. What does the import areallyourpetsnamederic statement do?\n",
    "\n",
    "Ans:-\n",
    "\n",
    "    it will import module with that name in your program. Whenever import command is detected by the python compiler, it will try search name provided after import keyword in available search path. If successfully found , it will allow us to use associated functions with that module."
   ]
  },
  {
   "cell_type": "markdown",
   "id": "right-ideal",
   "metadata": {},
   "source": [
    "12. If you had a function named bacon() in a module named spam, how would you call it after importing spam?\n",
    "\n",
    "Ans:-\n",
    "\n",
    "    import spam\n",
    "    \n",
    "    spam.bacon()"
   ]
  },
  {
   "cell_type": "markdown",
   "id": "spatial-protection",
   "metadata": {},
   "source": [
    "13. How can you prevent a program from crashing when it gets an error?\n",
    "\n",
    "Ans:-\n",
    "\n",
    "    you can write the program using try and except block. It will try to save the program from the Run time errors. "
   ]
  },
  {
   "cell_type": "markdown",
   "id": "provincial-ivory",
   "metadata": {},
   "source": [
    "14. What goes in the try clause? What goes in the except clause?\n",
    "\n",
    "Ans:-\n",
    "\n",
    "    in \"try\" block , we will write main logic of code. More generally, logic or code which have probabiity of giving the run time errors like devide by zero, valueerror, file not found error.\n",
    "    \n",
    "    \"except\"block will encompass the logic or code to handle the exception or error raised in try block"
   ]
  },
  {
   "cell_type": "code",
   "execution_count": null,
   "id": "casual-europe",
   "metadata": {},
   "outputs": [],
   "source": []
  }
 ],
 "metadata": {
  "kernelspec": {
   "display_name": "Python 3",
   "language": "python",
   "name": "python3"
  },
  "language_info": {
   "codemirror_mode": {
    "name": "ipython",
    "version": 3
   },
   "file_extension": ".py",
   "mimetype": "text/x-python",
   "name": "python",
   "nbconvert_exporter": "python",
   "pygments_lexer": "ipython3",
   "version": "3.8.5"
  }
 },
 "nbformat": 4,
 "nbformat_minor": 5
}
