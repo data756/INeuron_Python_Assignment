{
 "cells": [
  {
   "cell_type": "markdown",
   "id": "colored-zambia",
   "metadata": {},
   "source": [
    "1. What does the code for an empty dictionary look like?\n",
    "\n",
    "Ans:- a={}\n",
    "\n",
    "    "
   ]
  },
  {
   "cell_type": "markdown",
   "id": "promising-bahrain",
   "metadata": {},
   "source": [
    "2. What does a dictionary value with a key 'foo' and a value 42 look like?\n",
    "\n",
    "Ans:- {'foo':42}"
   ]
  },
  {
   "cell_type": "markdown",
   "id": "focused-brighton",
   "metadata": {},
   "source": [
    "3. What is the main difference between a dictionary and a list?\n",
    "\n",
    "Ans:- Dictionary is unordered collection while list is ordered collection. Elements in dictionary will be accessed via Key , Value pairs. We can not access elements of the dictionary via index.On the other side, we can access elements of the list via its index only"
   ]
  },
  {
   "cell_type": "markdown",
   "id": "civil-divide",
   "metadata": {},
   "source": [
    "4. What happens if you try to access spam['foo'] if spam is {'bar': 100}?\n",
    "\n",
    "Ans:- Python interpreter will throw the key error.\n"
   ]
  },
  {
   "cell_type": "markdown",
   "id": "military-buffalo",
   "metadata": {},
   "source": [
    "5. If a dictionary is stored in spam, what is the difference between the expressions 'cat' in spam and 'cat' in spam.keys()?\n",
    "\n",
    "Ans:- \n",
    "\n",
    "    There is no such difference between above two expression as both of the script check for key with name 'cat'."
   ]
  },
  {
   "cell_type": "markdown",
   "id": "polar-transport",
   "metadata": {},
   "source": [
    "6. If a dictionary is stored in spam, what is the difference between the expressions 'cat' in spam and 'cat' in spam.values()?\n",
    "\n",
    "Ans:-\n",
    "    \n",
    "    \"'cat' in spam \" expression will search for the Key with the name of 'cat' in dictionary\n",
    "    \"cat in spam.values()\" will search for \"cat\" word in spam dictionary values."
   ]
  },
  {
   "cell_type": "markdown",
   "id": "sensitive-mirror",
   "metadata": {},
   "source": [
    "\n",
    "7. What is a shortcut for the following code?\n",
    "\n",
    "if 'color' not in spam:\n",
    "    spam['color'] = 'black'\n",
    "    \n",
    "Ans :-  we can use setdefault() inbuilt funciton of dictionary in python. it will create the new key value pair if no key is found. spam.setdefault('color','black')"
   ]
  },
  {
   "cell_type": "markdown",
   "id": "coupled-taste",
   "metadata": {},
   "source": [
    "8. What module and function can be used to “pretty print” dictionary values?\n",
    "\n",
    "Ans:- pprint.pprint()"
   ]
  },
  {
   "cell_type": "code",
   "execution_count": null,
   "id": "rubber-radiation",
   "metadata": {},
   "outputs": [],
   "source": []
  }
 ],
 "metadata": {
  "kernelspec": {
   "display_name": "Python 3",
   "language": "python",
   "name": "python3"
  },
  "language_info": {
   "codemirror_mode": {
    "name": "ipython",
    "version": 3
   },
   "file_extension": ".py",
   "mimetype": "text/x-python",
   "name": "python",
   "nbconvert_exporter": "python",
   "pygments_lexer": "ipython3",
   "version": "3.8.5"
  }
 },
 "nbformat": 4,
 "nbformat_minor": 5
}
